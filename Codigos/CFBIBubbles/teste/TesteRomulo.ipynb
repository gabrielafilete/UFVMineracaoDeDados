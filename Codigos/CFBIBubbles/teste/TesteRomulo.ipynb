{
 "cells": [
  {
   "cell_type": "code",
   "execution_count": 79,
   "metadata": {},
   "outputs": [],
   "source": [
    "# -*- coding: utf-8 -*-\n",
    "# from db_users import *\n",
    "import numpy as np\n",
    "import pandas as pd\n",
    "\n",
    "import matplotlib.pyplot as plt\n",
    "import seaborn as sns\n",
    "\n",
    "sns.set_style('white')\n",
    "\n",
    "import scipy\n",
    "import sys\n",
    "from math import sqrt\n",
    "\n",
    "from scipy.spatial.distance import cdist,pdist, squareform\n",
    "from sklearn.metrics.pairwise import euclidean_distances"
   ]
  },
  {
   "cell_type": "code",
   "execution_count": 80,
   "metadata": {},
   "outputs": [],
   "source": [
    "column_name = ['user_id', 'item_id', 'rating']\n",
    "data_frame = pd.read_csv(\"u.data\", sep='\\t', names=column_name, usecols=column_name)"
   ]
  },
  {
   "cell_type": "code",
   "execution_count": 81,
   "metadata": {},
   "outputs": [],
   "source": [
    "column_name = ['item_id', 'title']\n",
    "movie_title = pd.read_csv(\"u.item\", sep='|', names=column_name, usecols=column_name)"
   ]
  },
  {
   "cell_type": "code",
   "execution_count": 82,
   "metadata": {
    "scrolled": true
   },
   "outputs": [],
   "source": [
    "data_frame = pd.merge(data_frame, movie_title, on='item_id')"
   ]
  },
  {
   "cell_type": "code",
   "execution_count": 83,
   "metadata": {},
   "outputs": [],
   "source": [
    "#data_frame.groupby('title')['rating'].mean().sort_values(ascending=False).head()\n",
    "#data_frame.groupby('title')['rating'].count().sort_values(ascending=False).head(10)"
   ]
  },
  {
   "cell_type": "code",
   "execution_count": 84,
   "metadata": {
    "scrolled": true
   },
   "outputs": [],
   "source": [
    "ratings = pd.DataFrame( data_frame.groupby('title')['rating'].mean())\n",
    "ratings['count'] = data_frame.groupby('title')['rating'].count()\n",
    "ratings = ratings.sort_values(by=['count'], ascending=False)\n",
    "# ratings.head()"
   ]
  },
  {
   "cell_type": "code",
   "execution_count": 353,
   "metadata": {
    "scrolled": false
   },
   "outputs": [
    {
     "data": {
      "text/html": [
       "<div>\n",
       "<style scoped>\n",
       "    .dataframe tbody tr th:only-of-type {\n",
       "        vertical-align: middle;\n",
       "    }\n",
       "\n",
       "    .dataframe tbody tr th {\n",
       "        vertical-align: top;\n",
       "    }\n",
       "\n",
       "    .dataframe thead th {\n",
       "        text-align: right;\n",
       "    }\n",
       "</style>\n",
       "<table border=\"1\" class=\"dataframe\">\n",
       "  <thead>\n",
       "    <tr style=\"text-align: right;\">\n",
       "      <th></th>\n",
       "      <th>user_id</th>\n",
       "      <th>1</th>\n",
       "      <th>2</th>\n",
       "      <th>3</th>\n",
       "      <th>4</th>\n",
       "      <th>5</th>\n",
       "      <th>6</th>\n",
       "      <th>7</th>\n",
       "      <th>8</th>\n",
       "      <th>9</th>\n",
       "      <th>10</th>\n",
       "      <th>...</th>\n",
       "      <th>331</th>\n",
       "      <th>332</th>\n",
       "      <th>333</th>\n",
       "      <th>334</th>\n",
       "      <th>335</th>\n",
       "      <th>336</th>\n",
       "      <th>338</th>\n",
       "      <th>339</th>\n",
       "      <th>340</th>\n",
       "      <th>342</th>\n",
       "    </tr>\n",
       "    <tr>\n",
       "      <th>item_id</th>\n",
       "      <th>title</th>\n",
       "      <th></th>\n",
       "      <th></th>\n",
       "      <th></th>\n",
       "      <th></th>\n",
       "      <th></th>\n",
       "      <th></th>\n",
       "      <th></th>\n",
       "      <th></th>\n",
       "      <th></th>\n",
       "      <th></th>\n",
       "      <th></th>\n",
       "      <th></th>\n",
       "      <th></th>\n",
       "      <th></th>\n",
       "      <th></th>\n",
       "      <th></th>\n",
       "      <th></th>\n",
       "      <th></th>\n",
       "      <th></th>\n",
       "      <th></th>\n",
       "      <th></th>\n",
       "    </tr>\n",
       "  </thead>\n",
       "  <tbody>\n",
       "    <tr>\n",
       "      <th>1</th>\n",
       "      <th>Toy Story (1995)</th>\n",
       "      <td>NaN</td>\n",
       "      <td>NaN</td>\n",
       "      <td>NaN</td>\n",
       "      <td>NaN</td>\n",
       "      <td>4.0</td>\n",
       "      <td>NaN</td>\n",
       "      <td>NaN</td>\n",
       "      <td>NaN</td>\n",
       "      <td>NaN</td>\n",
       "      <td>NaN</td>\n",
       "      <td>...</td>\n",
       "      <td>NaN</td>\n",
       "      <td>NaN</td>\n",
       "      <td>NaN</td>\n",
       "      <td>NaN</td>\n",
       "      <td>NaN</td>\n",
       "      <td>NaN</td>\n",
       "      <td>NaN</td>\n",
       "      <td>NaN</td>\n",
       "      <td>NaN</td>\n",
       "      <td>NaN</td>\n",
       "    </tr>\n",
       "    <tr>\n",
       "      <th>2</th>\n",
       "      <th>GoldenEye (1995)</th>\n",
       "      <td>NaN</td>\n",
       "      <td>NaN</td>\n",
       "      <td>NaN</td>\n",
       "      <td>NaN</td>\n",
       "      <td>3.0</td>\n",
       "      <td>NaN</td>\n",
       "      <td>NaN</td>\n",
       "      <td>NaN</td>\n",
       "      <td>NaN</td>\n",
       "      <td>NaN</td>\n",
       "      <td>...</td>\n",
       "      <td>NaN</td>\n",
       "      <td>NaN</td>\n",
       "      <td>NaN</td>\n",
       "      <td>NaN</td>\n",
       "      <td>NaN</td>\n",
       "      <td>NaN</td>\n",
       "      <td>NaN</td>\n",
       "      <td>NaN</td>\n",
       "      <td>NaN</td>\n",
       "      <td>NaN</td>\n",
       "    </tr>\n",
       "    <tr>\n",
       "      <th>3</th>\n",
       "      <th>Four Rooms (1995)</th>\n",
       "      <td>NaN</td>\n",
       "      <td>NaN</td>\n",
       "      <td>NaN</td>\n",
       "      <td>NaN</td>\n",
       "      <td>NaN</td>\n",
       "      <td>NaN</td>\n",
       "      <td>NaN</td>\n",
       "      <td>NaN</td>\n",
       "      <td>NaN</td>\n",
       "      <td>NaN</td>\n",
       "      <td>...</td>\n",
       "      <td>NaN</td>\n",
       "      <td>NaN</td>\n",
       "      <td>NaN</td>\n",
       "      <td>NaN</td>\n",
       "      <td>NaN</td>\n",
       "      <td>NaN</td>\n",
       "      <td>NaN</td>\n",
       "      <td>NaN</td>\n",
       "      <td>NaN</td>\n",
       "      <td>NaN</td>\n",
       "    </tr>\n",
       "    <tr>\n",
       "      <th>4</th>\n",
       "      <th>Get Shorty (1995)</th>\n",
       "      <td>NaN</td>\n",
       "      <td>NaN</td>\n",
       "      <td>NaN</td>\n",
       "      <td>NaN</td>\n",
       "      <td>NaN</td>\n",
       "      <td>NaN</td>\n",
       "      <td>NaN</td>\n",
       "      <td>NaN</td>\n",
       "      <td>NaN</td>\n",
       "      <td>4.0</td>\n",
       "      <td>...</td>\n",
       "      <td>NaN</td>\n",
       "      <td>NaN</td>\n",
       "      <td>NaN</td>\n",
       "      <td>NaN</td>\n",
       "      <td>NaN</td>\n",
       "      <td>NaN</td>\n",
       "      <td>NaN</td>\n",
       "      <td>NaN</td>\n",
       "      <td>NaN</td>\n",
       "      <td>NaN</td>\n",
       "    </tr>\n",
       "    <tr>\n",
       "      <th>5</th>\n",
       "      <th>Copycat (1995)</th>\n",
       "      <td>NaN</td>\n",
       "      <td>NaN</td>\n",
       "      <td>NaN</td>\n",
       "      <td>NaN</td>\n",
       "      <td>NaN</td>\n",
       "      <td>NaN</td>\n",
       "      <td>NaN</td>\n",
       "      <td>NaN</td>\n",
       "      <td>NaN</td>\n",
       "      <td>NaN</td>\n",
       "      <td>...</td>\n",
       "      <td>NaN</td>\n",
       "      <td>NaN</td>\n",
       "      <td>NaN</td>\n",
       "      <td>NaN</td>\n",
       "      <td>NaN</td>\n",
       "      <td>NaN</td>\n",
       "      <td>NaN</td>\n",
       "      <td>NaN</td>\n",
       "      <td>NaN</td>\n",
       "      <td>NaN</td>\n",
       "    </tr>\n",
       "  </tbody>\n",
       "</table>\n",
       "<p>5 rows × 338 columns</p>\n",
       "</div>"
      ],
      "text/plain": [
       "user_id                    1    2    3    4    5    6    7    8    9    10   \\\n",
       "item_id title                                                                 \n",
       "1       Toy Story (1995)   NaN  NaN  NaN  NaN  4.0  NaN  NaN  NaN  NaN  NaN   \n",
       "2       GoldenEye (1995)   NaN  NaN  NaN  NaN  3.0  NaN  NaN  NaN  NaN  NaN   \n",
       "3       Four Rooms (1995)  NaN  NaN  NaN  NaN  NaN  NaN  NaN  NaN  NaN  NaN   \n",
       "4       Get Shorty (1995)  NaN  NaN  NaN  NaN  NaN  NaN  NaN  NaN  NaN  4.0   \n",
       "5       Copycat (1995)     NaN  NaN  NaN  NaN  NaN  NaN  NaN  NaN  NaN  NaN   \n",
       "\n",
       "user_id                   ...   331  332  333  334  335  336  338  339  340  \\\n",
       "item_id title             ...                                                 \n",
       "1       Toy Story (1995)  ...   NaN  NaN  NaN  NaN  NaN  NaN  NaN  NaN  NaN   \n",
       "2       GoldenEye (1995)  ...   NaN  NaN  NaN  NaN  NaN  NaN  NaN  NaN  NaN   \n",
       "3       Four Rooms (1995) ...   NaN  NaN  NaN  NaN  NaN  NaN  NaN  NaN  NaN   \n",
       "4       Get Shorty (1995) ...   NaN  NaN  NaN  NaN  NaN  NaN  NaN  NaN  NaN   \n",
       "5       Copycat (1995)    ...   NaN  NaN  NaN  NaN  NaN  NaN  NaN  NaN  NaN   \n",
       "\n",
       "user_id                    342  \n",
       "item_id title                   \n",
       "1       Toy Story (1995)   NaN  \n",
       "2       GoldenEye (1995)   NaN  \n",
       "3       Four Rooms (1995)  NaN  \n",
       "4       Get Shorty (1995)  NaN  \n",
       "5       Copycat (1995)     NaN  \n",
       "\n",
       "[5 rows x 338 columns]"
      ]
     },
     "execution_count": 353,
     "metadata": {},
     "output_type": "execute_result"
    }
   ],
   "source": [
    "movie_matrix = data_frame.pivot_table(index=['item_id','title'],columns=['user_id'],values='rating')\n",
    "movie_matrix.head()"
   ]
  },
  {
   "cell_type": "code",
   "execution_count": 151,
   "metadata": {},
   "outputs": [],
   "source": [
    "def dfLineToColumn(data_frame,idx):\n",
    "    filmes = data_frame.loc[idx]\n",
    "    filmes.dropna(axis=1, how='all',inplace=True)\n",
    "    return pd.DataFrame(filmes.iloc[0])#transfora linhas em colunas\n",
    "\n",
    "f_u_rating = dfLineToColumn(movie_matrix,267)"
   ]
  },
  {
   "cell_type": "code",
   "execution_count": 152,
   "metadata": {},
   "outputs": [
    {
     "data": {
      "text/plain": [
       "Int64Index([5, 130], dtype='int64', name='user_id')"
      ]
     },
     "execution_count": 152,
     "metadata": {},
     "output_type": "execute_result"
    }
   ],
   "source": [
    "f_u_rating.index"
   ]
  },
  {
   "cell_type": "code",
   "execution_count": 350,
   "metadata": {},
   "outputs": [
    {
     "data": {
      "text/html": [
       "<div>\n",
       "<style scoped>\n",
       "    .dataframe tbody tr th:only-of-type {\n",
       "        vertical-align: middle;\n",
       "    }\n",
       "\n",
       "    .dataframe tbody tr th {\n",
       "        vertical-align: top;\n",
       "    }\n",
       "\n",
       "    .dataframe thead th {\n",
       "        text-align: right;\n",
       "    }\n",
       "</style>\n",
       "<table border=\"1\" class=\"dataframe\">\n",
       "  <thead>\n",
       "    <tr style=\"text-align: right;\">\n",
       "      <th></th>\n",
       "      <th>0</th>\n",
       "      <th>1</th>\n",
       "      <th>2</th>\n",
       "      <th>3</th>\n",
       "      <th>4</th>\n",
       "      <th>5</th>\n",
       "      <th>6</th>\n",
       "      <th>7</th>\n",
       "      <th>8</th>\n",
       "      <th>9</th>\n",
       "      <th>...</th>\n",
       "      <th>1051</th>\n",
       "      <th>1052</th>\n",
       "      <th>1053</th>\n",
       "      <th>1054</th>\n",
       "      <th>1055</th>\n",
       "      <th>1056</th>\n",
       "      <th>1057</th>\n",
       "      <th>1058</th>\n",
       "      <th>1059</th>\n",
       "      <th>1060</th>\n",
       "    </tr>\n",
       "  </thead>\n",
       "  <tbody>\n",
       "    <tr>\n",
       "      <th>0</th>\n",
       "      <td>0.000000</td>\n",
       "      <td>18.681542</td>\n",
       "      <td>17.606817</td>\n",
       "      <td>20.371549</td>\n",
       "      <td>17.663522</td>\n",
       "      <td>17.378147</td>\n",
       "      <td>22.847319</td>\n",
       "      <td>19.313208</td>\n",
       "      <td>22.825424</td>\n",
       "      <td>20.371549</td>\n",
       "      <td>...</td>\n",
       "      <td>17.492856</td>\n",
       "      <td>17.832555</td>\n",
       "      <td>17.378147</td>\n",
       "      <td>17.578396</td>\n",
       "      <td>17.378147</td>\n",
       "      <td>17.378147</td>\n",
       "      <td>17.578396</td>\n",
       "      <td>17.146428</td>\n",
       "      <td>17.233688</td>\n",
       "      <td>17.578396</td>\n",
       "    </tr>\n",
       "    <tr>\n",
       "      <th>1</th>\n",
       "      <td>18.681542</td>\n",
       "      <td>0.000000</td>\n",
       "      <td>11.000000</td>\n",
       "      <td>15.427249</td>\n",
       "      <td>11.618950</td>\n",
       "      <td>10.049876</td>\n",
       "      <td>18.627936</td>\n",
       "      <td>16.370706</td>\n",
       "      <td>16.970563</td>\n",
       "      <td>15.033296</td>\n",
       "      <td>...</td>\n",
       "      <td>10.246951</td>\n",
       "      <td>10.816654</td>\n",
       "      <td>10.049876</td>\n",
       "      <td>10.392305</td>\n",
       "      <td>10.049876</td>\n",
       "      <td>10.049876</td>\n",
       "      <td>10.392305</td>\n",
       "      <td>9.643651</td>\n",
       "      <td>9.797959</td>\n",
       "      <td>10.392305</td>\n",
       "    </tr>\n",
       "    <tr>\n",
       "      <th>2</th>\n",
       "      <td>17.606817</td>\n",
       "      <td>11.000000</td>\n",
       "      <td>0.000000</td>\n",
       "      <td>13.820275</td>\n",
       "      <td>8.485281</td>\n",
       "      <td>6.164414</td>\n",
       "      <td>18.000000</td>\n",
       "      <td>14.317821</td>\n",
       "      <td>16.031220</td>\n",
       "      <td>12.767145</td>\n",
       "      <td>...</td>\n",
       "      <td>6.480741</td>\n",
       "      <td>7.348469</td>\n",
       "      <td>6.164414</td>\n",
       "      <td>6.708204</td>\n",
       "      <td>6.164414</td>\n",
       "      <td>6.164414</td>\n",
       "      <td>6.708204</td>\n",
       "      <td>5.477226</td>\n",
       "      <td>5.744563</td>\n",
       "      <td>6.708204</td>\n",
       "    </tr>\n",
       "    <tr>\n",
       "      <th>3</th>\n",
       "      <td>20.371549</td>\n",
       "      <td>15.427249</td>\n",
       "      <td>13.820275</td>\n",
       "      <td>0.000000</td>\n",
       "      <td>14.317821</td>\n",
       "      <td>13.076697</td>\n",
       "      <td>21.000000</td>\n",
       "      <td>18.384776</td>\n",
       "      <td>19.748418</td>\n",
       "      <td>17.204651</td>\n",
       "      <td>...</td>\n",
       "      <td>13.228757</td>\n",
       "      <td>13.674794</td>\n",
       "      <td>13.076697</td>\n",
       "      <td>13.341664</td>\n",
       "      <td>13.076697</td>\n",
       "      <td>13.076697</td>\n",
       "      <td>13.341664</td>\n",
       "      <td>12.767145</td>\n",
       "      <td>12.884099</td>\n",
       "      <td>13.341664</td>\n",
       "    </tr>\n",
       "    <tr>\n",
       "      <th>4</th>\n",
       "      <td>17.663522</td>\n",
       "      <td>11.618950</td>\n",
       "      <td>8.485281</td>\n",
       "      <td>14.317821</td>\n",
       "      <td>0.000000</td>\n",
       "      <td>7.211103</td>\n",
       "      <td>17.944358</td>\n",
       "      <td>14.177447</td>\n",
       "      <td>15.716234</td>\n",
       "      <td>13.304135</td>\n",
       "      <td>...</td>\n",
       "      <td>7.483315</td>\n",
       "      <td>8.246211</td>\n",
       "      <td>7.211103</td>\n",
       "      <td>7.681146</td>\n",
       "      <td>7.211103</td>\n",
       "      <td>7.211103</td>\n",
       "      <td>7.681146</td>\n",
       "      <td>6.633250</td>\n",
       "      <td>6.855655</td>\n",
       "      <td>7.681146</td>\n",
       "    </tr>\n",
       "  </tbody>\n",
       "</table>\n",
       "<p>5 rows × 1061 columns</p>\n",
       "</div>"
      ],
      "text/plain": [
       "        0          1          2          3          4          5     \\\n",
       "0   0.000000  18.681542  17.606817  20.371549  17.663522  17.378147   \n",
       "1  18.681542   0.000000  11.000000  15.427249  11.618950  10.049876   \n",
       "2  17.606817  11.000000   0.000000  13.820275   8.485281   6.164414   \n",
       "3  20.371549  15.427249  13.820275   0.000000  14.317821  13.076697   \n",
       "4  17.663522  11.618950   8.485281  14.317821   0.000000   7.211103   \n",
       "\n",
       "        6          7          8          9       ...           1051  \\\n",
       "0  22.847319  19.313208  22.825424  20.371549    ...      17.492856   \n",
       "1  18.627936  16.370706  16.970563  15.033296    ...      10.246951   \n",
       "2  18.000000  14.317821  16.031220  12.767145    ...       6.480741   \n",
       "3  21.000000  18.384776  19.748418  17.204651    ...      13.228757   \n",
       "4  17.944358  14.177447  15.716234  13.304135    ...       7.483315   \n",
       "\n",
       "        1052       1053       1054       1055       1056       1057  \\\n",
       "0  17.832555  17.378147  17.578396  17.378147  17.378147  17.578396   \n",
       "1  10.816654  10.049876  10.392305  10.049876  10.049876  10.392305   \n",
       "2   7.348469   6.164414   6.708204   6.164414   6.164414   6.708204   \n",
       "3  13.674794  13.076697  13.341664  13.076697  13.076697  13.341664   \n",
       "4   8.246211   7.211103   7.681146   7.211103   7.211103   7.681146   \n",
       "\n",
       "        1058       1059       1060  \n",
       "0  17.146428  17.233688  17.578396  \n",
       "1   9.643651   9.797959  10.392305  \n",
       "2   5.477226   5.744563   6.708204  \n",
       "3  12.767145  12.884099  13.341664  \n",
       "4   6.633250   6.855655   7.681146  \n",
       "\n",
       "[5 rows x 1061 columns]"
      ]
     },
     "execution_count": 350,
     "metadata": {},
     "output_type": "execute_result"
    }
   ],
   "source": [
    "X_data_testing = pd.DataFrame( np.asarray(movie_matrix.fillna(0)))\n",
    "\n",
    "matrix_euclidian = pd.DataFrame( euclidean_distances(X_data_testing,X_data_testing) ) \n",
    "matrix_euclidian.head()"
   ]
  },
  {
   "cell_type": "code",
   "execution_count": 382,
   "metadata": {
    "scrolled": true
   },
   "outputs": [
    {
     "name": "stdout",
     "output_type": "stream",
     "text": [
      "-----\n",
      " 5\n",
      "-----\n",
      " 130\n"
     ]
    }
   ],
   "source": [
    "result = { }\n",
    "\n",
    "for idx in f_u_rating.index:\n",
    "    print(\"-----\\n\",idx)\n",
    "    filmes_u = movie_matrix[idx]\n",
    "    filmes_u.dropna(inplace=True)\n",
    "#     print(filmes_u)\n",
    "    for c in  filmes_u.iteritems():\n",
    "        filmId = c[0][0]\n",
    "#         print(filmId)\n",
    "        if( filmId != idx and filmId in matrix_euclidian.index):\n",
    "            result[idx] = matrix_euclidian.loc[filmId].sort_values(ascending=True)\n",
    "            result[idx] = result[idx][1:5]\n",
    "#             \n",
    "            \n",
    "    \n",
    "    filmes_u = \"\""
   ]
  },
  {
   "cell_type": "code",
   "execution_count": 479,
   "metadata": {},
   "outputs": [
    {
     "data": {
      "text/plain": [
       "532     1.732051\n",
       "37      4.123106\n",
       "426     4.123106\n",
       "1022    4.123106\n",
       "Name: 1017, dtype: float64"
      ]
     },
     "execution_count": 479,
     "metadata": {},
     "output_type": "execute_result"
    }
   ],
   "source": [
    "# movie_matrix.xs(1,level='item_id')\n",
    "result[130]"
   ]
  },
  {
   "cell_type": "code",
   "execution_count": 412,
   "metadata": {},
   "outputs": [
    {
     "data": {
      "text/plain": [
       "<matplotlib.axes._subplots.AxesSubplot at 0x7f2bc47c0e10>"
      ]
     },
     "execution_count": 412,
     "metadata": {},
     "output_type": "execute_result"
    },
    {
     "data": {
      "image/png": "[encoded data removed]",
      "text/plain": [
       "<Figure size 864x576 with 1 Axes>"
      ]
     },
     "metadata": {},
     "output_type": "display_data"
    }
   ],
   "source": [
    "plt.figure( figsize=(12,8) )\n",
    "ratings['count'].hist(bins=50)"
   ]
  },
  {
   "cell_type": "code",
   "execution_count": 469,
   "metadata": {},
   "outputs": [],
   "source": [
    "value = int((ratings[['count']].sort_values(by='count',ascending=False).iloc[0]['count'])/3)"
   ]
  },
  {
   "cell_type": "code",
   "execution_count": 509,
   "metadata": {},
   "outputs": [
    {
     "name": "stderr",
     "output_type": "stream",
     "text": [
      "/home/romulo/anaconda3/lib/python3.6/site-packages/matplotlib/axes/_axes.py:6462: UserWarning: The 'normed' kwarg is deprecated, and has been replaced by the 'density' kwarg.\n",
      "  warnings.warn(\"The 'normed' kwarg is deprecated, and has been \"\n",
      "/home/romulo/anaconda3/lib/python3.6/site-packages/matplotlib/axes/_axes.py:6462: UserWarning: The 'normed' kwarg is deprecated, and has been replaced by the 'density' kwarg.\n",
      "  warnings.warn(\"The 'normed' kwarg is deprecated, and has been \"\n"
     ]
    },
    {
     "data": {
      "text/plain": [
       "[<matplotlib.lines.Line2D at 0x7f2bbd15f748>]"
      ]
     },
     "execution_count": 509,
     "metadata": {},
     "output_type": "execute_result"
    },
    {
     "data": {
      "text/plain": [
       "<Figure size 864x576 with 0 Axes>"
      ]
     },
     "metadata": {},
     "output_type": "display_data"
    },
    {
     "data": {
      "image/png": "[encoded data removed]",
      "text/plain": [
       "<Figure size 576x576 with 3 Axes>"
      ]
     },
     "metadata": {},
     "output_type": "display_data"
    }
   ],
   "source": [
    "plt.figure( figsize=(12,8) )\n",
    "\n",
    "ratings = pd.DataFrame( data_frame.groupby('title')['rating'].mean() )\n",
    "ratings['count'] = data_frame.groupby('title')['rating'].count()\n",
    "\n",
    "# ratings['count'] = ratings['count'][ratings['count'] > value]\n",
    "\n",
    "g = sns.jointplot( x='rating', y='count', data=ratings, alpha=0.4,size=8)\n",
    "\n",
    "g.plot_joint(plt.scatter, color=\"g\")\n",
    "plt.plot([0, 5.0], [value, value], linewidth=2)\n"
   ]
  },
  {
   "cell_type": "code",
   "execution_count": null,
   "metadata": {},
   "outputs": [],
   "source": []
  }
 ],
 "metadata": {
  "kernelspec": {
   "display_name": "Python 3",
   "language": "python",
   "name": "python3"
  },
  "language_info": {
   "codemirror_mode": {
    "name": "ipython",
    "version": 3
   },
   "file_extension": ".py",
   "mimetype": "text/x-python",
   "name": "python",
   "nbconvert_exporter": "python",
   "pygments_lexer": "ipython3",
   "version": "3.6.5"
  }
 },
 "nbformat": 4,
 "nbformat_minor": 2
}
